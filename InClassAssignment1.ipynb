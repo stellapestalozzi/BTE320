{
  "nbformat": 4,
  "nbformat_minor": 0,
  "metadata": {
    "colab": {
      "provenance": [],
      "authorship_tag": "ABX9TyP49AFgbdpdbzXPexPzlaYW",
      "include_colab_link": true
    },
    "kernelspec": {
      "name": "python3",
      "display_name": "Python 3"
    },
    "language_info": {
      "name": "python"
    }
  },
  "cells": [
    {
      "cell_type": "markdown",
      "metadata": {
        "id": "view-in-github",
        "colab_type": "text"
      },
      "source": [
        "<a href=\"https://colab.research.google.com/github/stellapestalozzi/BTE320/blob/main/InClassAssignment1.ipynb\" target=\"_parent\"><img src=\"https://colab.research.google.com/assets/colab-badge.svg\" alt=\"Open In Colab\"/></a>"
      ]
    },
    {
      "cell_type": "markdown",
      "source": [
        "surface area of a cilinder and display\n",
        "\n",
        "formula: 2piRˆ2+2piRh\n",
        "\n",
        "can use function print, and function inputs for the inputs\n",
        "\n",
        "- it needs 3 inputs: pi, R, h\n",
        "\n",
        "- the expression\n",
        "\n",
        "- the answer\n",
        "\n",
        "\n"
      ],
      "metadata": {
        "id": "DRmT3Z0gaDIF"
      }
    },
    {
      "cell_type": "code",
      "source": [
        "pi = float(input(\"enter the value of pi: \"))\n",
        "R = float(input(\"enter the value of R: \"))\n",
        "h = float(input(\"enter the value of h: \"))\n",
        "print(\"\\nFormula: 2piRˆ2+2piRh\")\n",
        "print(\"\\nAnswer: \", 2*pi*R**2+2*pi*R*h)\n"
      ],
      "metadata": {
        "colab": {
          "base_uri": "https://localhost:8080/"
        },
        "id": "g-2YLbzlahtt",
        "outputId": "6290140d-b5fe-4eff-93b5-442600e905c0"
      },
      "execution_count": null,
      "outputs": [
        {
          "output_type": "stream",
          "name": "stdout",
          "text": [
            "enter the value of pi: 3.1416\n",
            "enter the value of R: 5\n",
            "enter the value of h: 10\n",
            "\n",
            "Formula: 2piRˆ2+2piRh\n",
            "\n",
            "Answer:  471.24\n"
          ]
        }
      ]
    },
    {
      "cell_type": "markdown",
      "source": [
        "(first i did in class, second is the professor answer)\n",
        "\n",
        "first: begin with the input\n",
        "\n",
        "the float is so they cast as a number\n",
        "\n",
        "in the area, there is no need for paranthesis, but you can put it if you want.\n"
      ],
      "metadata": {
        "id": "DHdm7jIXcS-v"
      }
    },
    {
      "cell_type": "code",
      "source": [
        "pi = 3.1416\n",
        "radius = float(input(\"enter the radius: \"))\n",
        "height = float(input(\"enter the height: \"))\n",
        "\n",
        "area = 2 * pi * radius ** 2 + 2 * pi * radius * height\n",
        "print(f'Area of the cylinder is {area}')\n"
      ],
      "metadata": {
        "colab": {
          "base_uri": "https://localhost:8080/"
        },
        "id": "ftNrhR_ucaYi",
        "outputId": "e5be2d6b-9bae-457f-9672-e0b82195c586"
      },
      "execution_count": null,
      "outputs": [
        {
          "output_type": "stream",
          "name": "stdout",
          "text": [
            "enter the radius: 5\n",
            "enter the height: 10\n",
            "Area of the cylinder is 471.24\n"
          ]
        }
      ]
    }
  ]
}